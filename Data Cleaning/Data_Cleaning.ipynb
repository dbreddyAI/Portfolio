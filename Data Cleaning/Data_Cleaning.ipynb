{
 "cells": [
  {
   "cell_type": "markdown",
   "metadata": {},
   "source": [
    "# Data Cleaning of Behavioral Risk Factor Surveillance System\n",
    "This dataset includes data on adult's diet, physical activity, and weight status from Behavioral Risk Factor Surveillance System. \n",
    "\n",
    "Data source: data.gov"
   ]
  },
  {
   "cell_type": "markdown",
   "metadata": {},
   "source": [
    "# Importing libraries and reading data"
   ]
  },
  {
   "cell_type": "code",
   "execution_count": 1,
   "metadata": {
    "collapsed": true
   },
   "outputs": [],
   "source": [
    "import pandas as pd\n",
    "import numpy as np"
   ]
  },
  {
   "cell_type": "code",
   "execution_count": 2,
   "metadata": {},
   "outputs": [
    {
     "data": {
      "text/html": [
       "<div>\n",
       "<style>\n",
       "    .dataframe thead tr:only-child th {\n",
       "        text-align: right;\n",
       "    }\n",
       "\n",
       "    .dataframe thead th {\n",
       "        text-align: left;\n",
       "    }\n",
       "\n",
       "    .dataframe tbody tr th {\n",
       "        vertical-align: top;\n",
       "    }\n",
       "</style>\n",
       "<table border=\"1\" class=\"dataframe\">\n",
       "  <thead>\n",
       "    <tr style=\"text-align: right;\">\n",
       "      <th></th>\n",
       "      <th>YearStart</th>\n",
       "      <th>YearEnd</th>\n",
       "      <th>LocationAbbr</th>\n",
       "      <th>LocationDesc</th>\n",
       "      <th>Datasource</th>\n",
       "      <th>Class</th>\n",
       "      <th>Topic</th>\n",
       "      <th>Question</th>\n",
       "      <th>Data_Value_Unit</th>\n",
       "      <th>Data_Value_Type</th>\n",
       "      <th>...</th>\n",
       "      <th>GeoLocation</th>\n",
       "      <th>ClassID</th>\n",
       "      <th>TopicID</th>\n",
       "      <th>QuestionID</th>\n",
       "      <th>DataValueTypeID</th>\n",
       "      <th>LocationID</th>\n",
       "      <th>StratificationCategory1</th>\n",
       "      <th>Stratification1</th>\n",
       "      <th>StratificationCategoryId1</th>\n",
       "      <th>StratificationID1</th>\n",
       "    </tr>\n",
       "  </thead>\n",
       "  <tbody>\n",
       "    <tr>\n",
       "      <th>0</th>\n",
       "      <td>2011</td>\n",
       "      <td>2011</td>\n",
       "      <td>AL</td>\n",
       "      <td>Alabama</td>\n",
       "      <td>Behavioral Risk Factor Surveillance System</td>\n",
       "      <td>Obesity / Weight Status</td>\n",
       "      <td>Obesity / Weight Status</td>\n",
       "      <td>Percent of adults aged 18 years and older who ...</td>\n",
       "      <td>NaN</td>\n",
       "      <td>Value</td>\n",
       "      <td>...</td>\n",
       "      <td>(32.84057112200048, -86.63186076199969)</td>\n",
       "      <td>OWS</td>\n",
       "      <td>OWS1</td>\n",
       "      <td>Q036</td>\n",
       "      <td>VALUE</td>\n",
       "      <td>1</td>\n",
       "      <td>Total</td>\n",
       "      <td>Total</td>\n",
       "      <td>OVR</td>\n",
       "      <td>OVERALL</td>\n",
       "    </tr>\n",
       "    <tr>\n",
       "      <th>1</th>\n",
       "      <td>2011</td>\n",
       "      <td>2011</td>\n",
       "      <td>AL</td>\n",
       "      <td>Alabama</td>\n",
       "      <td>Behavioral Risk Factor Surveillance System</td>\n",
       "      <td>Obesity / Weight Status</td>\n",
       "      <td>Obesity / Weight Status</td>\n",
       "      <td>Percent of adults aged 18 years and older who ...</td>\n",
       "      <td>NaN</td>\n",
       "      <td>Value</td>\n",
       "      <td>...</td>\n",
       "      <td>(32.84057112200048, -86.63186076199969)</td>\n",
       "      <td>OWS</td>\n",
       "      <td>OWS1</td>\n",
       "      <td>Q036</td>\n",
       "      <td>VALUE</td>\n",
       "      <td>1</td>\n",
       "      <td>Gender</td>\n",
       "      <td>Male</td>\n",
       "      <td>GEN</td>\n",
       "      <td>MALE</td>\n",
       "    </tr>\n",
       "    <tr>\n",
       "      <th>2</th>\n",
       "      <td>2011</td>\n",
       "      <td>2011</td>\n",
       "      <td>AL</td>\n",
       "      <td>Alabama</td>\n",
       "      <td>Behavioral Risk Factor Surveillance System</td>\n",
       "      <td>Obesity / Weight Status</td>\n",
       "      <td>Obesity / Weight Status</td>\n",
       "      <td>Percent of adults aged 18 years and older who ...</td>\n",
       "      <td>NaN</td>\n",
       "      <td>Value</td>\n",
       "      <td>...</td>\n",
       "      <td>(32.84057112200048, -86.63186076199969)</td>\n",
       "      <td>OWS</td>\n",
       "      <td>OWS1</td>\n",
       "      <td>Q036</td>\n",
       "      <td>VALUE</td>\n",
       "      <td>1</td>\n",
       "      <td>Gender</td>\n",
       "      <td>Female</td>\n",
       "      <td>GEN</td>\n",
       "      <td>FEMALE</td>\n",
       "    </tr>\n",
       "    <tr>\n",
       "      <th>3</th>\n",
       "      <td>2011</td>\n",
       "      <td>2011</td>\n",
       "      <td>AL</td>\n",
       "      <td>Alabama</td>\n",
       "      <td>Behavioral Risk Factor Surveillance System</td>\n",
       "      <td>Obesity / Weight Status</td>\n",
       "      <td>Obesity / Weight Status</td>\n",
       "      <td>Percent of adults aged 18 years and older who ...</td>\n",
       "      <td>NaN</td>\n",
       "      <td>Value</td>\n",
       "      <td>...</td>\n",
       "      <td>(32.84057112200048, -86.63186076199969)</td>\n",
       "      <td>OWS</td>\n",
       "      <td>OWS1</td>\n",
       "      <td>Q036</td>\n",
       "      <td>VALUE</td>\n",
       "      <td>1</td>\n",
       "      <td>Education</td>\n",
       "      <td>Less than high school</td>\n",
       "      <td>EDU</td>\n",
       "      <td>EDUHS</td>\n",
       "    </tr>\n",
       "    <tr>\n",
       "      <th>4</th>\n",
       "      <td>2011</td>\n",
       "      <td>2011</td>\n",
       "      <td>AL</td>\n",
       "      <td>Alabama</td>\n",
       "      <td>Behavioral Risk Factor Surveillance System</td>\n",
       "      <td>Obesity / Weight Status</td>\n",
       "      <td>Obesity / Weight Status</td>\n",
       "      <td>Percent of adults aged 18 years and older who ...</td>\n",
       "      <td>NaN</td>\n",
       "      <td>Value</td>\n",
       "      <td>...</td>\n",
       "      <td>(32.84057112200048, -86.63186076199969)</td>\n",
       "      <td>OWS</td>\n",
       "      <td>OWS1</td>\n",
       "      <td>Q036</td>\n",
       "      <td>VALUE</td>\n",
       "      <td>1</td>\n",
       "      <td>Education</td>\n",
       "      <td>High school graduate</td>\n",
       "      <td>EDU</td>\n",
       "      <td>EDUHSGRAD</td>\n",
       "    </tr>\n",
       "  </tbody>\n",
       "</table>\n",
       "<p>5 rows × 33 columns</p>\n",
       "</div>"
      ],
      "text/plain": [
       "   YearStart  YearEnd LocationAbbr LocationDesc  \\\n",
       "0       2011     2011           AL      Alabama   \n",
       "1       2011     2011           AL      Alabama   \n",
       "2       2011     2011           AL      Alabama   \n",
       "3       2011     2011           AL      Alabama   \n",
       "4       2011     2011           AL      Alabama   \n",
       "\n",
       "                                   Datasource                    Class  \\\n",
       "0  Behavioral Risk Factor Surveillance System  Obesity / Weight Status   \n",
       "1  Behavioral Risk Factor Surveillance System  Obesity / Weight Status   \n",
       "2  Behavioral Risk Factor Surveillance System  Obesity / Weight Status   \n",
       "3  Behavioral Risk Factor Surveillance System  Obesity / Weight Status   \n",
       "4  Behavioral Risk Factor Surveillance System  Obesity / Weight Status   \n",
       "\n",
       "                     Topic                                           Question  \\\n",
       "0  Obesity / Weight Status  Percent of adults aged 18 years and older who ...   \n",
       "1  Obesity / Weight Status  Percent of adults aged 18 years and older who ...   \n",
       "2  Obesity / Weight Status  Percent of adults aged 18 years and older who ...   \n",
       "3  Obesity / Weight Status  Percent of adults aged 18 years and older who ...   \n",
       "4  Obesity / Weight Status  Percent of adults aged 18 years and older who ...   \n",
       "\n",
       "   Data_Value_Unit Data_Value_Type        ...         \\\n",
       "0              NaN           Value        ...          \n",
       "1              NaN           Value        ...          \n",
       "2              NaN           Value        ...          \n",
       "3              NaN           Value        ...          \n",
       "4              NaN           Value        ...          \n",
       "\n",
       "                               GeoLocation  ClassID TopicID QuestionID  \\\n",
       "0  (32.84057112200048, -86.63186076199969)      OWS    OWS1       Q036   \n",
       "1  (32.84057112200048, -86.63186076199969)      OWS    OWS1       Q036   \n",
       "2  (32.84057112200048, -86.63186076199969)      OWS    OWS1       Q036   \n",
       "3  (32.84057112200048, -86.63186076199969)      OWS    OWS1       Q036   \n",
       "4  (32.84057112200048, -86.63186076199969)      OWS    OWS1       Q036   \n",
       "\n",
       "   DataValueTypeID  LocationID  StratificationCategory1  \\\n",
       "0            VALUE           1                    Total   \n",
       "1            VALUE           1                   Gender   \n",
       "2            VALUE           1                   Gender   \n",
       "3            VALUE           1                Education   \n",
       "4            VALUE           1                Education   \n",
       "\n",
       "         Stratification1 StratificationCategoryId1 StratificationID1  \n",
       "0                  Total                       OVR           OVERALL  \n",
       "1                   Male                       GEN              MALE  \n",
       "2                 Female                       GEN            FEMALE  \n",
       "3  Less than high school                       EDU             EDUHS  \n",
       "4   High school graduate                       EDU         EDUHSGRAD  \n",
       "\n",
       "[5 rows x 33 columns]"
      ]
     },
     "execution_count": 2,
     "metadata": {},
     "output_type": "execute_result"
    }
   ],
   "source": [
    "df=pd.read_csv('data.csv')\n",
    "df.head()"
   ]
  },
  {
   "cell_type": "code",
   "execution_count": 3,
   "metadata": {},
   "outputs": [
    {
     "data": {
      "text/plain": [
       "(48772, 33)"
      ]
     },
     "execution_count": 3,
     "metadata": {},
     "output_type": "execute_result"
    }
   ],
   "source": [
    "df.shape"
   ]
  },
  {
   "cell_type": "markdown",
   "metadata": {
    "collapsed": true
   },
   "source": [
    "# Finding missing values"
   ]
  },
  {
   "cell_type": "code",
   "execution_count": 4,
   "metadata": {},
   "outputs": [
    {
     "data": {
      "text/plain": [
       "YearStart                         0\n",
       "YearEnd                           0\n",
       "LocationAbbr                      0\n",
       "LocationDesc                      0\n",
       "Datasource                        0\n",
       "Class                             0\n",
       "Topic                             0\n",
       "Question                          0\n",
       "Data_Value_Unit               48772\n",
       "Data_Value_Type                   0\n",
       "Data_Value                     4603\n",
       "Data_Value_Alt                 4603\n",
       "Data_Value_Footnote_Symbol    44169\n",
       "Data_Value_Footnote           44169\n",
       "Low_Confidence_Limit           4603\n",
       "High_Confidence_Limit          4603\n",
       "Sample_Size                    4603\n",
       "Total                         47030\n",
       "Age(years)                    38324\n",
       "Education                     41804\n",
       "Gender                        45288\n",
       "Income                        36578\n",
       "Race/Ethnicity                34836\n",
       "GeoLocation                     924\n",
       "ClassID                           0\n",
       "TopicID                           0\n",
       "QuestionID                        0\n",
       "DataValueTypeID                   0\n",
       "LocationID                        0\n",
       "StratificationCategory1           0\n",
       "Stratification1                   0\n",
       "StratificationCategoryId1         0\n",
       "StratificationID1                 0\n",
       "dtype: int64"
      ]
     },
     "execution_count": 4,
     "metadata": {},
     "output_type": "execute_result"
    }
   ],
   "source": [
    "df.isnull().sum()"
   ]
  },
  {
   "cell_type": "markdown",
   "metadata": {
    "collapsed": true
   },
   "source": [
    "# DataValueUnit has all null vaues.So that column can be dropped fully."
   ]
  },
  {
   "cell_type": "code",
   "execution_count": 5,
   "metadata": {
    "collapsed": true
   },
   "outputs": [],
   "source": [
    "df=df.drop('Data_Value_Unit',axis=1)"
   ]
  },
  {
   "cell_type": "markdown",
   "metadata": {},
   "source": [
    "Data_Value and Data_Value_Alt column has 4603 missing values.Filling that with mean values of that column"
   ]
  },
  {
   "cell_type": "code",
   "execution_count": 6,
   "metadata": {},
   "outputs": [
    {
     "data": {
      "text/plain": [
       "0"
      ]
     },
     "execution_count": 6,
     "metadata": {},
     "output_type": "execute_result"
    }
   ],
   "source": [
    "df['Data_Value']=df['Data_Value'].fillna(df['Data_Value'].mean())\n",
    "df['Data_Value'].isnull().sum()"
   ]
  },
  {
   "cell_type": "code",
   "execution_count": 7,
   "metadata": {},
   "outputs": [
    {
     "data": {
      "text/plain": [
       "0"
      ]
     },
     "execution_count": 7,
     "metadata": {},
     "output_type": "execute_result"
    }
   ],
   "source": [
    "df['Data_Value_Alt']=df['Data_Value_Alt'].fillna(df['Data_Value_Alt'].mean())\n",
    "df['Data_Value_Alt'].isnull().sum()"
   ]
  },
  {
   "cell_type": "code",
   "execution_count": 8,
   "metadata": {},
   "outputs": [
    {
     "data": {
      "text/plain": [
       "~    4603\n",
       "Name: Data_Value_Footnote_Symbol, dtype: int64"
      ]
     },
     "execution_count": 8,
     "metadata": {},
     "output_type": "execute_result"
    }
   ],
   "source": [
    "df['Data_Value_Footnote_Symbol'].value_counts()"
   ]
  },
  {
   "cell_type": "code",
   "execution_count": 9,
   "metadata": {},
   "outputs": [
    {
     "data": {
      "text/plain": [
       "Data not available because sample size is insufficient.                                                                                                   4181\n",
       "Data not available because sample size is insufficient.  If data only missing for the confidence interval, the confidence interval was not calculated.     422\n",
       "Name: Data_Value_Footnote, dtype: int64"
      ]
     },
     "execution_count": 9,
     "metadata": {},
     "output_type": "execute_result"
    }
   ],
   "source": [
    "df['Data_Value_Footnote'].value_counts()"
   ]
  },
  {
   "cell_type": "markdown",
   "metadata": {},
   "source": [
    "Data_Value_Footnote_Symbol and Data_Value_Footnote have more missing values and the other values present doesn't provide much information.So, the two columns are dropped for simplicity of further analysis."
   ]
  },
  {
   "cell_type": "code",
   "execution_count": 10,
   "metadata": {
    "collapsed": true
   },
   "outputs": [],
   "source": [
    "df=df.drop(['Data_Value_Footnote_Symbol','Data_Value_Footnote'],axis=1)"
   ]
  },
  {
   "cell_type": "code",
   "execution_count": 11,
   "metadata": {},
   "outputs": [
    {
     "data": {
      "text/plain": [
       "YearStart                        0\n",
       "YearEnd                          0\n",
       "LocationAbbr                     0\n",
       "LocationDesc                     0\n",
       "Datasource                       0\n",
       "Class                            0\n",
       "Topic                            0\n",
       "Question                         0\n",
       "Data_Value_Type                  0\n",
       "Data_Value                       0\n",
       "Data_Value_Alt                   0\n",
       "Low_Confidence_Limit          4603\n",
       "High_Confidence_Limit         4603\n",
       "Sample_Size                   4603\n",
       "Total                        47030\n",
       "Age(years)                   38324\n",
       "Education                    41804\n",
       "Gender                       45288\n",
       "Income                       36578\n",
       "Race/Ethnicity               34836\n",
       "GeoLocation                    924\n",
       "ClassID                          0\n",
       "TopicID                          0\n",
       "QuestionID                       0\n",
       "DataValueTypeID                  0\n",
       "LocationID                       0\n",
       "StratificationCategory1          0\n",
       "Stratification1                  0\n",
       "StratificationCategoryId1        0\n",
       "StratificationID1                0\n",
       "dtype: int64"
      ]
     },
     "execution_count": 11,
     "metadata": {},
     "output_type": "execute_result"
    }
   ],
   "source": [
    "df.isnull().sum()"
   ]
  },
  {
   "cell_type": "markdown",
   "metadata": {},
   "source": [
    "Same procedure of filling values for Low_Confidence_Limit,High_Confidence_Limit and Sample_Size"
   ]
  },
  {
   "cell_type": "code",
   "execution_count": 12,
   "metadata": {
    "collapsed": true
   },
   "outputs": [],
   "source": [
    "df['Low_Confidence_Limit']=df['Low_Confidence_Limit'].fillna(df['Low_Confidence_Limit'].mean())"
   ]
  },
  {
   "cell_type": "code",
   "execution_count": 13,
   "metadata": {
    "collapsed": true
   },
   "outputs": [],
   "source": [
    "df['High_Confidence_Limit ']=df['High_Confidence_Limit '].fillna(df['High_Confidence_Limit '].mean())"
   ]
  },
  {
   "cell_type": "code",
   "execution_count": 14,
   "metadata": {
    "collapsed": true
   },
   "outputs": [],
   "source": [
    "df['Sample_Size']=df['Sample_Size'].fillna(df['Sample_Size'].mean())"
   ]
  },
  {
   "cell_type": "code",
   "execution_count": 15,
   "metadata": {},
   "outputs": [
    {
     "data": {
      "text/plain": [
       "YearStart                        0\n",
       "YearEnd                          0\n",
       "LocationAbbr                     0\n",
       "LocationDesc                     0\n",
       "Datasource                       0\n",
       "Class                            0\n",
       "Topic                            0\n",
       "Question                         0\n",
       "Data_Value_Type                  0\n",
       "Data_Value                       0\n",
       "Data_Value_Alt                   0\n",
       "Low_Confidence_Limit             0\n",
       "High_Confidence_Limit            0\n",
       "Sample_Size                      0\n",
       "Total                        47030\n",
       "Age(years)                   38324\n",
       "Education                    41804\n",
       "Gender                       45288\n",
       "Income                       36578\n",
       "Race/Ethnicity               34836\n",
       "GeoLocation                    924\n",
       "ClassID                          0\n",
       "TopicID                          0\n",
       "QuestionID                       0\n",
       "DataValueTypeID                  0\n",
       "LocationID                       0\n",
       "StratificationCategory1          0\n",
       "Stratification1                  0\n",
       "StratificationCategoryId1        0\n",
       "StratificationID1                0\n",
       "dtype: int64"
      ]
     },
     "execution_count": 15,
     "metadata": {},
     "output_type": "execute_result"
    }
   ],
   "source": [
    "df.isnull().sum()"
   ]
  },
  {
   "cell_type": "markdown",
   "metadata": {},
   "source": [
    "Renaming age column"
   ]
  },
  {
   "cell_type": "code",
   "execution_count": 16,
   "metadata": {
    "collapsed": true
   },
   "outputs": [],
   "source": [
    "df=df.rename(columns = {'Age(years)':'Age'})"
   ]
  },
  {
   "cell_type": "markdown",
   "metadata": {},
   "source": [
    "# Converting Age column to Numeric"
   ]
  },
  {
   "cell_type": "code",
   "execution_count": 17,
   "metadata": {},
   "outputs": [
    {
     "data": {
      "text/plain": [
       "count    10448.000000\n",
       "mean        40.499904\n",
       "std         16.367524\n",
       "min         18.000000\n",
       "25%         25.000000\n",
       "50%         40.000000\n",
       "75%         55.000000\n",
       "max         65.000000\n",
       "Name: Age, dtype: float64"
      ]
     },
     "execution_count": 17,
     "metadata": {},
     "output_type": "execute_result"
    }
   ],
   "source": [
    "def refine_age(age):\n",
    "    if pd.isnull(age):\n",
    "        return None\n",
    "    age=age.split(' ')[0]\n",
    "    return int(age)\n",
    "df['Age']=df['Age'].apply(refine_age)\n",
    "df['Age'].describe()"
   ]
  },
  {
   "cell_type": "code",
   "execution_count": 18,
   "metadata": {},
   "outputs": [
    {
     "data": {
      "text/plain": [
       "array([ nan,  18.,  25.,  35.,  45.,  55.,  65.])"
      ]
     },
     "execution_count": 18,
     "metadata": {},
     "output_type": "execute_result"
    }
   ],
   "source": [
    "df['Age'].unique()"
   ]
  },
  {
   "cell_type": "markdown",
   "metadata": {},
   "source": [
    "# Cleaning the column values of Stratification Category Values"
   ]
  },
  {
   "cell_type": "code",
   "execution_count": 19,
   "metadata": {},
   "outputs": [
    {
     "data": {
      "text/plain": [
       "array(['Total', 'Male', 'Female', 'Less than high school',\n",
       "       'High school graduate', 'Some college or technical school',\n",
       "       'College graduate', '18 - 24', '25 - 34', '35 - 44', '45 - 54',\n",
       "       '55 - 64', '65 or older', 'Less than $15,000', '$15,000 - $24,999',\n",
       "       '$25,000 - $34,999', '$35,000 - $49,999', '$50,000 - $74,999',\n",
       "       '$75,000 or greater', 'Data not reported', 'Non-Hispanic White',\n",
       "       'Non-Hispanic Black', 'Hispanic', 'Asian',\n",
       "       'Hawaiian/Pacific Islander', 'American Indian/Alaska Native',\n",
       "       '2 or more races', 'Other'], dtype=object)"
      ]
     },
     "execution_count": 19,
     "metadata": {},
     "output_type": "execute_result"
    }
   ],
   "source": [
    "df['Stratification1'].unique()"
   ]
  },
  {
   "cell_type": "code",
   "execution_count": 20,
   "metadata": {},
   "outputs": [
    {
     "data": {
      "text/plain": [
       "0                 Total\n",
       "1                Gender\n",
       "2                Gender\n",
       "3             Education\n",
       "4             Education\n",
       "5             Education\n",
       "6             Education\n",
       "7           Age (years)\n",
       "8           Age (years)\n",
       "9           Age (years)\n",
       "10          Age (years)\n",
       "11          Age (years)\n",
       "12          Age (years)\n",
       "13               Income\n",
       "14               Income\n",
       "15               Income\n",
       "16               Income\n",
       "17               Income\n",
       "18               Income\n",
       "19               Income\n",
       "20       Race/Ethnicity\n",
       "21       Race/Ethnicity\n",
       "22       Race/Ethnicity\n",
       "23       Race/Ethnicity\n",
       "24       Race/Ethnicity\n",
       "25       Race/Ethnicity\n",
       "26       Race/Ethnicity\n",
       "27       Race/Ethnicity\n",
       "28                Total\n",
       "29               Gender\n",
       "              ...      \n",
       "48742    Race/Ethnicity\n",
       "48743    Race/Ethnicity\n",
       "48744       Age (years)\n",
       "48745       Age (years)\n",
       "48746       Age (years)\n",
       "48747       Age (years)\n",
       "48748       Age (years)\n",
       "48749       Age (years)\n",
       "48750         Education\n",
       "48751         Education\n",
       "48752         Education\n",
       "48753         Education\n",
       "48754            Gender\n",
       "48755            Gender\n",
       "48756            Income\n",
       "48757            Income\n",
       "48758            Income\n",
       "48759            Income\n",
       "48760            Income\n",
       "48761            Income\n",
       "48762            Income\n",
       "48763             Total\n",
       "48764    Race/Ethnicity\n",
       "48765    Race/Ethnicity\n",
       "48766    Race/Ethnicity\n",
       "48767    Race/Ethnicity\n",
       "48768    Race/Ethnicity\n",
       "48769    Race/Ethnicity\n",
       "48770    Race/Ethnicity\n",
       "48771    Race/Ethnicity\n",
       "Name: StratificationCategory1, Length: 48772, dtype: object"
      ]
     },
     "execution_count": 20,
     "metadata": {},
     "output_type": "execute_result"
    }
   ],
   "source": [
    "df['StratificationCategory1']"
   ]
  },
  {
   "cell_type": "markdown",
   "metadata": {},
   "source": [
    "Observing the Stratification Category1 values, the values in Total,Age,Gender,Education,Race/Ethnicity,Total have values for which the\n",
    "Stratification Category1 is that respective value.So the other column values are NaN in the table.\n",
    "\n",
    "So Filling mode or mean of values makes less sense here.Instead it can be filled as 'unknown' and the columns which have values according to the respective Stratification Category1 can be used for analysis."
   ]
  },
  {
   "cell_type": "code",
   "execution_count": 21,
   "metadata": {
    "collapsed": true
   },
   "outputs": [],
   "source": [
    "cols = ['Total',\"Age\", \"Education\",'Gender','Income','Race/Ethnicity']\n",
    "df[cols]=df[cols].fillna('not known')"
   ]
  },
  {
   "cell_type": "code",
   "execution_count": 22,
   "metadata": {},
   "outputs": [
    {
     "data": {
      "text/plain": [
       "YearStart                      0\n",
       "YearEnd                        0\n",
       "LocationAbbr                   0\n",
       "LocationDesc                   0\n",
       "Datasource                     0\n",
       "Class                          0\n",
       "Topic                          0\n",
       "Question                       0\n",
       "Data_Value_Type                0\n",
       "Data_Value                     0\n",
       "Data_Value_Alt                 0\n",
       "Low_Confidence_Limit           0\n",
       "High_Confidence_Limit          0\n",
       "Sample_Size                    0\n",
       "Total                          0\n",
       "Age                            0\n",
       "Education                      0\n",
       "Gender                         0\n",
       "Income                         0\n",
       "Race/Ethnicity                 0\n",
       "GeoLocation                  924\n",
       "ClassID                        0\n",
       "TopicID                        0\n",
       "QuestionID                     0\n",
       "DataValueTypeID                0\n",
       "LocationID                     0\n",
       "StratificationCategory1        0\n",
       "Stratification1                0\n",
       "StratificationCategoryId1      0\n",
       "StratificationID1              0\n",
       "dtype: int64"
      ]
     },
     "execution_count": 22,
     "metadata": {},
     "output_type": "execute_result"
    }
   ],
   "source": [
    "df.isnull().sum()"
   ]
  },
  {
   "cell_type": "markdown",
   "metadata": {},
   "source": [
    "# GeoLocation "
   ]
  },
  {
   "cell_type": "markdown",
   "metadata": {},
   "source": [
    "Only the GeoLocation have missing values now.We can try to fill them with Location available in the table.\n",
    "\n",
    "Before that we can separate the latitude and longitudes in separate columns so that it can be used for analysis and mapping of locations in geomaps."
   ]
  },
  {
   "cell_type": "code",
   "execution_count": 23,
   "metadata": {},
   "outputs": [
    {
     "data": {
      "text/plain": [
       "0    (32.84057112200048, -86.63186076199969)\n",
       "1    (32.84057112200048, -86.63186076199969)\n",
       "2    (32.84057112200048, -86.63186076199969)\n",
       "3    (32.84057112200048, -86.63186076199969)\n",
       "4    (32.84057112200048, -86.63186076199969)\n",
       "Name: GeoLocation, dtype: object"
      ]
     },
     "execution_count": 23,
     "metadata": {},
     "output_type": "execute_result"
    }
   ],
   "source": [
    "df['GeoLocation'].head()"
   ]
  },
  {
   "cell_type": "markdown",
   "metadata": {},
   "source": [
    "# Extracting Latitude and Longitude values and putting in separate columns"
   ]
  },
  {
   "cell_type": "code",
   "execution_count": 24,
   "metadata": {},
   "outputs": [
    {
     "data": {
      "text/plain": [
       "0    32.84057112200048\n",
       "1    32.84057112200048\n",
       "2    32.84057112200048\n",
       "3    32.84057112200048\n",
       "4    32.84057112200048\n",
       "Name: Latitude, dtype: object"
      ]
     },
     "execution_count": 24,
     "metadata": {},
     "output_type": "execute_result"
    }
   ],
   "source": [
    "def extract_lat(loc):\n",
    "    if(pd.isnull(loc)):\n",
    "        return None\n",
    "    lat=loc.split(',')[0]\n",
    "    lat=lat.replace('(','')\n",
    "    return lat\n",
    "df['Latitude']=df['GeoLocation'].apply(extract_lat)\n",
    "df['Latitude'].head()"
   ]
  },
  {
   "cell_type": "code",
   "execution_count": 25,
   "metadata": {},
   "outputs": [
    {
     "data": {
      "text/plain": [
       "0     -86.63186076199969\n",
       "1     -86.63186076199969\n",
       "2     -86.63186076199969\n",
       "3     -86.63186076199969\n",
       "4     -86.63186076199969\n",
       "Name: Longitude, dtype: object"
      ]
     },
     "execution_count": 25,
     "metadata": {},
     "output_type": "execute_result"
    }
   ],
   "source": [
    "def extract_lon(loc):\n",
    "    if(pd.isnull(loc)):\n",
    "        return None\n",
    "    lon=loc.split(',')[1]\n",
    "    lon=lon.replace(')','')\n",
    "    return lon\n",
    "df['Longitude']=df['GeoLocation'].apply(extract_lon)\n",
    "df['Longitude'].head()"
   ]
  },
  {
   "cell_type": "markdown",
   "metadata": {},
   "source": [
    "# Filling Missing values with Location name available"
   ]
  },
  {
   "cell_type": "code",
   "execution_count": 30,
   "metadata": {},
   "outputs": [
    {
     "name": "stderr",
     "output_type": "stream",
     "text": [
      "C:\\Users\\harshini\\Anaconda3\\lib\\site-packages\\ipykernel_launcher.py:8: SettingWithCopyWarning: \n",
      "A value is trying to be set on a copy of a slice from a DataFrame.\n",
      "Try using .loc[row_indexer,col_indexer] = value instead\n",
      "\n",
      "See the caveats in the documentation: http://pandas.pydata.org/pandas-docs/stable/indexing.html#indexing-view-versus-copy\n",
      "  \n",
      "C:\\Users\\harshini\\Anaconda3\\lib\\site-packages\\ipykernel_launcher.py:9: SettingWithCopyWarning: \n",
      "A value is trying to be set on a copy of a slice from a DataFrame.\n",
      "Try using .loc[row_indexer,col_indexer] = value instead\n",
      "\n",
      "See the caveats in the documentation: http://pandas.pydata.org/pandas-docs/stable/indexing.html#indexing-view-versus-copy\n",
      "  if __name__ == '__main__':\n"
     ]
    },
    {
     "ename": "GeocoderQuotaExceeded",
     "evalue": "The given key has gone over the requests limit in the 24 hour period or has submitted too many requests in too short a period of time.",
     "output_type": "error",
     "traceback": [
      "\u001b[1;31m---------------------------------------------------------------------------\u001b[0m",
      "\u001b[1;31mGeocoderQuotaExceeded\u001b[0m                     Traceback (most recent call last)",
      "\u001b[1;32m<ipython-input-30-9ba6eb25de94>\u001b[0m in \u001b[0;36m<module>\u001b[1;34m()\u001b[0m\n\u001b[0;32m      5\u001b[0m \u001b[0mnull_df\u001b[0m\u001b[1;33m=\u001b[0m\u001b[0mdf\u001b[0m\u001b[1;33m[\u001b[0m\u001b[0mdf\u001b[0m\u001b[1;33m[\u001b[0m\u001b[1;34m'GeoLocation'\u001b[0m\u001b[1;33m]\u001b[0m\u001b[1;33m.\u001b[0m\u001b[0misnull\u001b[0m\u001b[1;33m(\u001b[0m\u001b[1;33m)\u001b[0m\u001b[1;33m]\u001b[0m\u001b[1;33m\u001b[0m\u001b[0m\n\u001b[0;32m      6\u001b[0m \u001b[1;32mfor\u001b[0m \u001b[0mlocation\u001b[0m \u001b[1;32min\u001b[0m \u001b[0mnull_df\u001b[0m\u001b[1;33m[\u001b[0m\u001b[1;34m'LocationDesc'\u001b[0m\u001b[1;33m]\u001b[0m\u001b[1;33m:\u001b[0m\u001b[1;33m\u001b[0m\u001b[0m\n\u001b[1;32m----> 7\u001b[1;33m         \u001b[0mgeoloc\u001b[0m \u001b[1;33m=\u001b[0m \u001b[0mgeolocator\u001b[0m\u001b[1;33m.\u001b[0m\u001b[0mgeocode\u001b[0m\u001b[1;33m(\u001b[0m\u001b[0mlocation\u001b[0m\u001b[1;33m)\u001b[0m\u001b[1;33m\u001b[0m\u001b[0m\n\u001b[0m\u001b[0;32m      8\u001b[0m         \u001b[0mnull_df\u001b[0m\u001b[1;33m[\u001b[0m\u001b[1;34m'Latitude'\u001b[0m\u001b[1;33m]\u001b[0m\u001b[1;33m=\u001b[0m\u001b[0mgeoloc\u001b[0m\u001b[1;33m.\u001b[0m\u001b[0mlatitude\u001b[0m\u001b[1;33m\u001b[0m\u001b[0m\n\u001b[0;32m      9\u001b[0m         \u001b[0mnull_df\u001b[0m\u001b[1;33m[\u001b[0m\u001b[1;34m'Longitude'\u001b[0m\u001b[1;33m]\u001b[0m\u001b[1;33m=\u001b[0m\u001b[0mgeoloc\u001b[0m\u001b[1;33m.\u001b[0m\u001b[0mlongitude\u001b[0m\u001b[1;33m\u001b[0m\u001b[0m\n",
      "\u001b[1;32mC:\\Users\\harshini\\Anaconda3\\lib\\site-packages\\geopy\\geocoders\\googlev3.py\u001b[0m in \u001b[0;36mgeocode\u001b[1;34m(self, query, exactly_one, timeout, bounds, region, components, language, sensor)\u001b[0m\n\u001b[0;32m    215\u001b[0m         \u001b[0mlogger\u001b[0m\u001b[1;33m.\u001b[0m\u001b[0mdebug\u001b[0m\u001b[1;33m(\u001b[0m\u001b[1;34m\"%s.geocode: %s\"\u001b[0m\u001b[1;33m,\u001b[0m \u001b[0mself\u001b[0m\u001b[1;33m.\u001b[0m\u001b[0m__class__\u001b[0m\u001b[1;33m.\u001b[0m\u001b[0m__name__\u001b[0m\u001b[1;33m,\u001b[0m \u001b[0murl\u001b[0m\u001b[1;33m)\u001b[0m\u001b[1;33m\u001b[0m\u001b[0m\n\u001b[0;32m    216\u001b[0m         return self._parse_json(\n\u001b[1;32m--> 217\u001b[1;33m             \u001b[0mself\u001b[0m\u001b[1;33m.\u001b[0m\u001b[0m_call_geocoder\u001b[0m\u001b[1;33m(\u001b[0m\u001b[0murl\u001b[0m\u001b[1;33m,\u001b[0m \u001b[0mtimeout\u001b[0m\u001b[1;33m=\u001b[0m\u001b[0mtimeout\u001b[0m\u001b[1;33m)\u001b[0m\u001b[1;33m,\u001b[0m \u001b[0mexactly_one\u001b[0m\u001b[1;33m\u001b[0m\u001b[0m\n\u001b[0m\u001b[0;32m    218\u001b[0m         )\n\u001b[0;32m    219\u001b[0m \u001b[1;33m\u001b[0m\u001b[0m\n",
      "\u001b[1;32mC:\\Users\\harshini\\Anaconda3\\lib\\site-packages\\geopy\\geocoders\\googlev3.py\u001b[0m in \u001b[0;36m_parse_json\u001b[1;34m(self, page, exactly_one)\u001b[0m\n\u001b[0;32m    336\u001b[0m         \u001b[0mplaces\u001b[0m \u001b[1;33m=\u001b[0m \u001b[0mpage\u001b[0m\u001b[1;33m.\u001b[0m\u001b[0mget\u001b[0m\u001b[1;33m(\u001b[0m\u001b[1;34m'results'\u001b[0m\u001b[1;33m,\u001b[0m \u001b[1;33m[\u001b[0m\u001b[1;33m]\u001b[0m\u001b[1;33m)\u001b[0m\u001b[1;33m\u001b[0m\u001b[0m\n\u001b[0;32m    337\u001b[0m         \u001b[1;32mif\u001b[0m \u001b[1;32mnot\u001b[0m \u001b[0mlen\u001b[0m\u001b[1;33m(\u001b[0m\u001b[0mplaces\u001b[0m\u001b[1;33m)\u001b[0m\u001b[1;33m:\u001b[0m\u001b[1;33m\u001b[0m\u001b[0m\n\u001b[1;32m--> 338\u001b[1;33m             \u001b[0mself\u001b[0m\u001b[1;33m.\u001b[0m\u001b[0m_check_status\u001b[0m\u001b[1;33m(\u001b[0m\u001b[0mpage\u001b[0m\u001b[1;33m.\u001b[0m\u001b[0mget\u001b[0m\u001b[1;33m(\u001b[0m\u001b[1;34m'status'\u001b[0m\u001b[1;33m)\u001b[0m\u001b[1;33m)\u001b[0m\u001b[1;33m\u001b[0m\u001b[0m\n\u001b[0m\u001b[0;32m    339\u001b[0m             \u001b[1;32mreturn\u001b[0m \u001b[1;32mNone\u001b[0m\u001b[1;33m\u001b[0m\u001b[0m\n\u001b[0;32m    340\u001b[0m \u001b[1;33m\u001b[0m\u001b[0m\n",
      "\u001b[1;32mC:\\Users\\harshini\\Anaconda3\\lib\\site-packages\\geopy\\geocoders\\googlev3.py\u001b[0m in \u001b[0;36m_check_status\u001b[1;34m(status)\u001b[0m\n\u001b[0;32m    361\u001b[0m         \u001b[1;32mif\u001b[0m \u001b[0mstatus\u001b[0m \u001b[1;33m==\u001b[0m \u001b[1;34m'OVER_QUERY_LIMIT'\u001b[0m\u001b[1;33m:\u001b[0m\u001b[1;33m\u001b[0m\u001b[0m\n\u001b[0;32m    362\u001b[0m             raise GeocoderQuotaExceeded(\n\u001b[1;32m--> 363\u001b[1;33m                 \u001b[1;34m'The given key has gone over the requests limit in the 24'\u001b[0m\u001b[1;33m\u001b[0m\u001b[0m\n\u001b[0m\u001b[0;32m    364\u001b[0m                 \u001b[1;34m' hour period or has submitted too many requests in too'\u001b[0m\u001b[1;33m\u001b[0m\u001b[0m\n\u001b[0;32m    365\u001b[0m                 \u001b[1;34m' short a period of time.'\u001b[0m\u001b[1;33m\u001b[0m\u001b[0m\n",
      "\u001b[1;31mGeocoderQuotaExceeded\u001b[0m: The given key has gone over the requests limit in the 24 hour period or has submitted too many requests in too short a period of time."
     ]
    }
   ],
   "source": [
    "import geopy\n",
    "from geopy.geocoders import GoogleV3\n",
    "\n",
    "geolocator = GoogleV3() \n",
    "null_df=df[df['GeoLocation'].isnull()]\n",
    "for location in null_df['LocationDesc']:\n",
    "        geoloc = geolocator.geocode(location)\n",
    "        null_df['Latitude']=geoloc.latitude\n",
    "        null_df['Longitude']=geoloc.longitude"
   ]
  },
  {
   "cell_type": "code",
   "execution_count": null,
   "metadata": {
    "collapsed": true
   },
   "outputs": [],
   "source": []
  }
 ],
 "metadata": {
  "kernelspec": {
   "display_name": "Python 3",
   "language": "python",
   "name": "python3"
  },
  "language_info": {
   "codemirror_mode": {
    "name": "ipython",
    "version": 3
   },
   "file_extension": ".py",
   "mimetype": "text/x-python",
   "name": "python",
   "nbconvert_exporter": "python",
   "pygments_lexer": "ipython3",
   "version": "3.6.1"
  }
 },
 "nbformat": 4,
 "nbformat_minor": 2
}
